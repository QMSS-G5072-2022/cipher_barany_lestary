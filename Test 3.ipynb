{
 "cells": [
  {
   "cell_type": "code",
   "execution_count": 3,
   "id": "9f80435c",
   "metadata": {},
   "outputs": [],
   "source": [
    "def cipher(text, shift, encrypt=True):\n",
    "    alphabet = 'abcdefghijklmnopqrstuvwxyzABCDEFGHIJKLMNOPQRSTUVWXYZ'\n",
    "    new_text = ''\n",
    "    for c in text:\n",
    "        index = alphabet.find(c)\n",
    "        if index == -1:\n",
    "            new_text += c\n",
    "        else:\n",
    "            new_index = index + shift if encrypt == True else index - shift\n",
    "            new_index %= len(alphabet)\n",
    "            new_text += alphabet[new_index:new_index+1]\n",
    "    return new_text"
   ]
  },
  {
   "cell_type": "code",
   "execution_count": 5,
   "id": "8d9378c6",
   "metadata": {},
   "outputs": [
    {
     "name": "stdout",
     "output_type": "stream",
     "text": [
      "\u001b[1m============================= test session starts ==============================\u001b[0m\r\n",
      "platform darwin -- Python 3.9.7, pytest-7.2.0, pluggy-1.0.0 -- /Users/lestary/Library/Caches/pypoetry/virtualenvs/cipher-ljb2185-s-mk1vtO-py3.9/bin/python\r\n",
      "cachedir: .pytest_cache\r\n",
      "rootdir: /Users/lestary/Documents/mds/cipher_barany_lestary\r\n",
      "\u001b[1mcollecting ... \u001b[0m\u001b[1m\r",
      "collected 0 items                                                              \u001b[0m\r\n",
      "\r\n",
      "\u001b[33m============================ \u001b[33mno tests ran\u001b[0m\u001b[33m in 0.00s\u001b[0m\u001b[33m =============================\u001b[0m\r\n",
      "\u001b[31mERROR: file or directory not found: test_with_context.py\r\n",
      "\u001b[0m\r\n"
     ]
    }
   ],
   "source": [
    "!poetry run pytest test_with_context.py -vv"
   ]
  },
  {
   "cell_type": "code",
   "execution_count": null,
   "id": "94c185cb",
   "metadata": {},
   "outputs": [],
   "source": []
  }
 ],
 "metadata": {
  "kernelspec": {
   "display_name": "Python 3 (ipykernel)",
   "language": "python",
   "name": "python3"
  },
  "language_info": {
   "codemirror_mode": {
    "name": "ipython",
    "version": 3
   },
   "file_extension": ".py",
   "mimetype": "text/x-python",
   "name": "python",
   "nbconvert_exporter": "python",
   "pygments_lexer": "ipython3",
   "version": "3.9.7"
  }
 },
 "nbformat": 4,
 "nbformat_minor": 5
}
