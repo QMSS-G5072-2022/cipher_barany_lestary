{
 "cells": [
  {
   "cell_type": "code",
   "execution_count": 7,
   "id": "bbbcd109",
   "metadata": {},
   "outputs": [],
   "source": [
    "def cipher(text, shift, encrypt=True):\n",
    "    alphabet = 'abcdefghijklmnopqrstuvwxyzABCDEFGHIJKLMNOPQRSTUVWXYZ'\n",
    "    new_text = ''\n",
    "    for c in text:\n",
    "        index = alphabet.find(c)\n",
    "        if index == -1:\n",
    "            new_text += c\n",
    "        else:\n",
    "            new_index = index + shift if encrypt == True else index - shift\n",
    "            new_index %= len(alphabet)\n",
    "            new_text += alphabet[new_index:new_index+1]\n",
    "    return new_text"
   ]
  },
  {
   "cell_type": "code",
   "execution_count": 8,
   "id": "9f9c1efc",
   "metadata": {},
   "outputs": [
    {
     "name": "stdout",
     "output_type": "stream",
     "text": [
      "\u001b[1m============================= test session starts ==============================\u001b[0m\n",
      "platform darwin -- Python 3.9.7, pytest-7.2.0, pluggy-1.0.0 -- /Users/lestary/Library/Caches/pypoetry/virtualenvs/cipher-ljb2185-s-mk1vtO-py3.9/bin/python\n",
      "cachedir: .pytest_cache\n",
      "rootdir: /Users/lestary/Documents/mds/cipher_barany_lestary/tests\n",
      "collected 0 items / 1 error                                                    \u001b[0m\n",
      "\n",
      "==================================== ERRORS ====================================\n",
      "\u001b[31m\u001b[1m____________________ ERROR collecting test_with_context.py _____________________\u001b[0m\n",
      "\u001b[1m\u001b[31mtest_with_context.py\u001b[0m:12: in <module>\n",
      "    test_cipher()\n",
      "\u001b[1m\u001b[31mtest_with_context.py\u001b[0m:9: in test_cipher\n",
      "    actual = cipher(example,\u001b[94m1\u001b[39;49;00m)\n",
      "\u001b[1m\u001b[31mE   NameError: name 'cipher' is not defined\u001b[0m\n",
      "\u001b[36m\u001b[1m=========================== short test summary info ============================\u001b[0m\n",
      "\u001b[31mERROR\u001b[0m test_with_context.py - NameError: name 'cipher' is not defined\n",
      "!!!!!!!!!!!!!!!!!!!! Interrupted: 1 error during collection !!!!!!!!!!!!!!!!!!!!\n",
      "\u001b[31m=============================== \u001b[31m\u001b[1m1 error\u001b[0m\u001b[31m in 0.14s\u001b[0m\u001b[31m ===============================\u001b[0m\n"
     ]
    }
   ],
   "source": [
    "!poetry run pytest test_with_context.py -vv"
   ]
  },
  {
   "cell_type": "code",
   "execution_count": null,
   "id": "1f69d62e",
   "metadata": {},
   "outputs": [],
   "source": []
  }
 ],
 "metadata": {
  "kernelspec": {
   "display_name": "Python 3 (ipykernel)",
   "language": "python",
   "name": "python3"
  },
  "language_info": {
   "codemirror_mode": {
    "name": "ipython",
    "version": 3
   },
   "file_extension": ".py",
   "mimetype": "text/x-python",
   "name": "python",
   "nbconvert_exporter": "python",
   "pygments_lexer": "ipython3",
   "version": "3.9.7"
  }
 },
 "nbformat": 4,
 "nbformat_minor": 5
}
