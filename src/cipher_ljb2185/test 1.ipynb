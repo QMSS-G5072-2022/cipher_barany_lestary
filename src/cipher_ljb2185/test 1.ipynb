{
 "cells": [
  {
   "cell_type": "code",
   "execution_count": 1,
   "id": "56cea641",
   "metadata": {},
   "outputs": [],
   "source": [
    "import cipher_ljb2185"
   ]
  },
  {
   "cell_type": "code",
   "execution_count": 2,
   "id": "c144266f",
   "metadata": {},
   "outputs": [
    {
     "name": "stdout",
     "output_type": "stream",
     "text": [
      "\u001b[1m============================= test session starts ==============================\u001b[0m\r\n",
      "platform darwin -- Python 3.9.7, pytest-7.2.0, pluggy-1.0.0 -- /Users/lestary/Library/Caches/pypoetry/virtualenvs/cipher-ljb2185-s-mk1vtO-py3.9/bin/python\r\n",
      "cachedir: .pytest_cache\r\n",
      "rootdir: /Users/lestary/Documents/mds/cipher_barany_lestary/src/cipher_ljb2185\r\n",
      "\u001b[1mcollecting ... \u001b[0m\u001b[1m\r",
      "collected 0 items                                                              \u001b[0m\r\n",
      "\r\n",
      "\u001b[33m============================ \u001b[33mno tests ran\u001b[0m\u001b[33m in 0.00s\u001b[0m\u001b[33m =============================\u001b[0m\r\n",
      "\u001b[31mERROR: file or directory not found: test_with_context.py\r\n",
      "\u001b[0m\r\n"
     ]
    }
   ],
   "source": [
    "!poetry run pytest test_with_context.py -vv"
   ]
  },
  {
   "cell_type": "code",
   "execution_count": 3,
   "id": "79049174",
   "metadata": {},
   "outputs": [
    {
     "name": "stdout",
     "output_type": "stream",
     "text": [
      "\u001b[34mInstalling dependencies from lock file\u001b[39m\n",
      "\n",
      "No dependencies to install or update\n",
      "\n",
      "\u001b[31;1mcipher_ljb2185 is not a package.\u001b[39;22m\n"
     ]
    }
   ],
   "source": [
    "!poetry install"
   ]
  },
  {
   "cell_type": "code",
   "execution_count": 4,
   "id": "0e2f3d06",
   "metadata": {},
   "outputs": [
    {
     "name": "stdout",
     "output_type": "stream",
     "text": [
      "zsh:1: command not found: networks\r\n"
     ]
    }
   ],
   "source": [
    "!PYTEST_ADDOPTS=-m networks and level1"
   ]
  },
  {
   "cell_type": "code",
   "execution_count": null,
   "id": "77f3e25c",
   "metadata": {},
   "outputs": [],
   "source": []
  }
 ],
 "metadata": {
  "kernelspec": {
   "display_name": "Python 3 (ipykernel)",
   "language": "python",
   "name": "python3"
  },
  "language_info": {
   "codemirror_mode": {
    "name": "ipython",
    "version": 3
   },
   "file_extension": ".py",
   "mimetype": "text/x-python",
   "name": "python",
   "nbconvert_exporter": "python",
   "pygments_lexer": "ipython3",
   "version": "3.9.7"
  }
 },
 "nbformat": 4,
 "nbformat_minor": 5
}
